{
 "cells": [
  {
   "cell_type": "markdown",
   "id": "6bc25d39",
   "metadata": {},
   "source": [
    "# Bildverarbeitung 2. Projekt \n",
    "## Von Niklas Rother und Daniel Salib"
   ]
  },
  {
   "cell_type": "code",
   "execution_count": 58,
   "id": "fb4e872c",
   "metadata": {},
   "outputs": [],
   "source": [
    "import skimage as ski\n",
    "from skimage.io import imread,imsave\n",
    "from skimage.util import img_as_ubyte, img_as_float\n",
    "from skimage.exposure import adjust_log\n",
    "import matplotlib.pyplot as plt\n",
    "from scipy.fft import fft2, ifft2, fftshift\n",
    "import numpy as np\n",
    "import bild as test\n",
    "import ImageFilter as imf\n",
    "import ipywidgets as widgets\n",
    "from IPython.display import display, clear_output\n",
    "\n",
    "def cos_img(M,N, kx, ky):\n",
    "    xx, yy = np.indices((M, N))\n",
    "    Lx = M/kx\n",
    "    Ly = N/ky\n",
    "    img  = np.cos(2*np.pi/Lx * xx) * np.cos(2*np.pi/Ly * yy) \n",
    "    return img\n",
    "#Verrauscht = imread('./verrauscht.jpeg')\n",
    "Kreis = test.drawCircle(200, 20)\n",
    "Chess = test.chessboard(16)  \n",
    "Cos = cos_img(64,64, 4., 4.)\n",
    "#Rechteck = imread('./white_rectangle.tif')\n",
    "#VerrauschtesBild = imread('./verrauschtesBild.jpeg')\n",
    "#VerrauschtesBild = VerrauschtesBild[:446,:]\n",
    "# = imread('./ckt-board-orig.tif')\n",
    "#Barbara = imread('./barbara.png')\n",
    "#Buchstaben = imread('./test_pattern.png')\n",
    "#Cat = ski.data.cat()\n",
    "Kamera = ski.data.camera()\n",
    "Astronaut = ski.data.astronaut()\n",
    "\n",
    "#katzeklein = Cat[0:300,0:300,:]"
   ]
  },
  {
   "cell_type": "code",
   "execution_count": 59,
   "id": "90309eaf",
   "metadata": {},
   "outputs": [],
   "source": [
    "def PlotFilter(image):\n",
    "    filtertype = \"ignorieren Sie diese Anzeige\"  # Initialer Filtertyp\n",
    "\n",
    "    @widgets.interact(k0=(1, 50, 1))  # (min, max, step)\n",
    "    def ausgabe(k0, filtertype=filtertype):\n",
    "        out = widgets.Output()\n",
    "\n",
    "        def button_clicked(b):\n",
    "            nonlocal filtertype\n",
    "            if b == hghp_button:\n",
    "                filtertype = 'hghp'\n",
    "            elif b == hgtp_button:\n",
    "                filtertype = 'hgtp'\n",
    "            elif b == hihp_button:\n",
    "                filtertype = 'hihp'\n",
    "            elif b == hitp_button:\n",
    "                filtertype = 'hitp'\n",
    "            with out:\n",
    "                clear_output(wait=True)\n",
    "                update_plot()\n",
    "\n",
    "        def update_plot():\n",
    "            img1 = image\n",
    "            #\"\"\"\n",
    "            if (len(img1.shape) < 3):\n",
    "                if (filtertype == 'hihp' or filtertype == 'hghp'):\n",
    "                    image1 = np.abs(imf.apply_filter(img1, k0, filter_type=filtertype))\n",
    "                else:\n",
    "                    image1 = imf.apply_filter(img1, k0, filter_type=filtertype)\n",
    "                    \n",
    "            elif(filtertype == 'hihp' or filtertype == 'hghp'):\n",
    "                image1 = np.abs(imf.apply_filter(img1[:,:,0], k0, filter_type=filtertype))\n",
    "            elif(filtertype == 'hitp' or filtertype == 'hgtp'):\n",
    "                image1 = imf.apply_filter(img1, k0, filter_type=filtertype)\n",
    "            #\"\"\"\n",
    "            #image1 = imf.apply_filter(img1, k0, filter_type=filtertype)\n",
    "            \n",
    "            if (len(img1.shape) < 3):\n",
    "                plt.set_cmap('gray')\n",
    "                fig, axs  = plt.subplots(2,2, figsize = (9,10))\n",
    "                axs[0,0].imshow(img1)\n",
    "                axs[0,1].imshow(image1)\n",
    "                axs[1,0].imshow(adjust_log(np.abs(fftshift(fft2(img1)))))\n",
    "                axs[1,0].set_title('Spektrum vorher')\n",
    "                axs[1,1].imshow(adjust_log(np.abs(fftshift(fft2(image1)))))\n",
    "                axs[1,1].set_title('Spektrum nachher')\n",
    "                plt.show()\n",
    "            else:\n",
    "                plt.set_cmap('gray')\n",
    "                fig, axs  = plt.subplots(1,2, figsize = (9,10))\n",
    "                axs[0].imshow(img1)\n",
    "                axs[1].imshow(image1)\n",
    "                plt.show()\n",
    "                \n",
    "\n",
    "        hghp_button = widgets.Button(description=\"Hochpassfilter Gauß\")\n",
    "        hgtp_button = widgets.Button(description=\"Tiefpassfilter Gauß\")\n",
    "        hihp_button = widgets.Button(description=\"Hochpassfilter ideal\")\n",
    "        hitp_button = widgets.Button(description=\"Tiefpassfilter ideal\")\n",
    "\n",
    "        # Verbinde die Funktion button_clicked mit dem Klick-Ereignis des Buttons\n",
    "        hghp_button.on_click(button_clicked)\n",
    "        hgtp_button.on_click(button_clicked)\n",
    "        hihp_button.on_click(button_clicked)\n",
    "        hitp_button.on_click(button_clicked)\n",
    "\n",
    "        # Zeige den Button und das Output-Widget im Notebook an\n",
    "        display(hghp_button)\n",
    "        display(hgtp_button)\n",
    "        display(hihp_button)\n",
    "        display(hitp_button)\n",
    "        display(out)\n"
   ]
  },
  {
   "cell_type": "code",
   "execution_count": 60,
   "id": "ad50677f",
   "metadata": {},
   "outputs": [],
   "source": [
    "#addition eines Hochpassfilters um Bilder zu schärfen\n",
    "def PlotImgPlusFilter(image): \n",
    "    filtertype = \"ignorieren Sie diese Anzeige\"  # Initialer Filtertyp\n",
    "\n",
    "    @widgets.interact(k0=(1, 50, 1))  # (min, max, step)\n",
    "    def ausgabe(k0, filtertype=filtertype):\n",
    "        out = widgets.Output()\n",
    "\n",
    "        def button_clicked(b):\n",
    "            nonlocal filtertype\n",
    "            if b == hghp_button:\n",
    "                filtertype = 'hghp'\n",
    "            elif b == hihp_button:\n",
    "                filtertype = 'hihp'\n",
    "            with out:\n",
    "                clear_output(wait=True)\n",
    "                update_plot()\n",
    "\n",
    "        def update_plot():\n",
    "            img1 = image\n",
    "            image1 = ski.img_as_float(img1) + imf.apply_filter(img1, k0, filter_type=filtertype)            \n",
    "            plt.set_cmap('gray')\n",
    "            fig, axs  = plt.subplots(1,2, figsize = (9,10))\n",
    "            axs[0].imshow(img1)\n",
    "            axs[1].imshow(image1)\n",
    "            plt.show()\n",
    "\n",
    "        hghp_button = widgets.Button(description=\"Hochpassfilter Gauß\")\n",
    "        hihp_button = widgets.Button(description=\"Hochpassfilter ideal\")\n",
    "\n",
    "        # Verbinde die Funktion button_clicked mit dem Klick-Ereignis des Buttons\n",
    "        hghp_button.on_click(button_clicked)\n",
    "        hihp_button.on_click(button_clicked)\n",
    "\n",
    "        # Zeige den Button und das Output-Widget im Notebook an\n",
    "        display(hghp_button)\n",
    "        display(hihp_button)\n",
    "        display(out)"
   ]
  },
  {
   "cell_type": "markdown",
   "id": "e57b6485",
   "metadata": {},
   "source": [
    "## Kreis"
   ]
  },
  {
   "cell_type": "code",
   "execution_count": 61,
   "id": "eba07a27",
   "metadata": {},
   "outputs": [
    {
     "data": {
      "application/vnd.jupyter.widget-view+json": {
       "model_id": "a03d27eda5f8433690a743e1cf5281f8",
       "version_major": 2,
       "version_minor": 0
      },
      "text/plain": [
       "interactive(children=(IntSlider(value=25, description='k0', max=50, min=1), Text(value='ignorieren Sie diese A…"
      ]
     },
     "metadata": {},
     "output_type": "display_data"
    }
   ],
   "source": [
    "PlotFilter(Kreis)"
   ]
  },
  {
   "cell_type": "markdown",
   "id": "76a20813",
   "metadata": {},
   "source": [
    "## Rechteck"
   ]
  },
  {
   "cell_type": "code",
   "execution_count": 52,
   "id": "5da6e15a",
   "metadata": {},
   "outputs": [
    {
     "ename": "NameError",
     "evalue": "name 'Rechteck' is not defined",
     "output_type": "error",
     "traceback": [
      "\u001b[1;31m---------------------------------------------------------------------------\u001b[0m",
      "\u001b[1;31mNameError\u001b[0m                                 Traceback (most recent call last)",
      "\u001b[1;32m<ipython-input-52-a754d47b22d6>\u001b[0m in \u001b[0;36m<module>\u001b[1;34m\u001b[0m\n\u001b[1;32m----> 1\u001b[1;33m \u001b[0mPlotFilter\u001b[0m\u001b[1;33m(\u001b[0m\u001b[0mRechteck\u001b[0m\u001b[1;33m)\u001b[0m\u001b[1;33m\u001b[0m\u001b[1;33m\u001b[0m\u001b[0m\n\u001b[0m",
      "\u001b[1;31mNameError\u001b[0m: name 'Rechteck' is not defined"
     ]
    }
   ],
   "source": [
    "PlotFilter(Rechteck)"
   ]
  },
  {
   "cell_type": "markdown",
   "id": "290d6808",
   "metadata": {},
   "source": [
    "## Schachbrett"
   ]
  },
  {
   "cell_type": "code",
   "execution_count": 53,
   "id": "be840584",
   "metadata": {},
   "outputs": [
    {
     "data": {
      "application/vnd.jupyter.widget-view+json": {
       "model_id": "21ee0e1dba644fa1a923f40774870111",
       "version_major": 2,
       "version_minor": 0
      },
      "text/plain": [
       "interactive(children=(IntSlider(value=25, description='k0', max=50, min=1), Text(value='ignorieren Sie diese A…"
      ]
     },
     "metadata": {},
     "output_type": "display_data"
    }
   ],
   "source": [
    "PlotFilter(Chess)"
   ]
  },
  {
   "cell_type": "markdown",
   "id": "50b4dca0",
   "metadata": {},
   "source": [
    "# Barbara"
   ]
  },
  {
   "cell_type": "code",
   "execution_count": 54,
   "id": "ca0d3569",
   "metadata": {},
   "outputs": [
    {
     "ename": "NameError",
     "evalue": "name 'Barbara' is not defined",
     "output_type": "error",
     "traceback": [
      "\u001b[1;31m---------------------------------------------------------------------------\u001b[0m",
      "\u001b[1;31mNameError\u001b[0m                                 Traceback (most recent call last)",
      "\u001b[1;32m<ipython-input-54-7e614da696bf>\u001b[0m in \u001b[0;36m<module>\u001b[1;34m\u001b[0m\n\u001b[1;32m----> 1\u001b[1;33m \u001b[0mPlotFilter\u001b[0m\u001b[1;33m(\u001b[0m\u001b[0mBarbara\u001b[0m\u001b[1;33m)\u001b[0m\u001b[1;33m\u001b[0m\u001b[1;33m\u001b[0m\u001b[0m\n\u001b[0m",
      "\u001b[1;31mNameError\u001b[0m: name 'Barbara' is not defined"
     ]
    }
   ],
   "source": [
    "PlotFilter(Barbara)"
   ]
  },
  {
   "cell_type": "markdown",
   "id": "a186ff18",
   "metadata": {},
   "source": [
    "Das Tischtuch neben der Frau hat ein feines Karomuster, diese Art von feinen Strukturen können wir mit einem Tiefpassfilter glätten"
   ]
  },
  {
   "cell_type": "markdown",
   "id": "8b845a82",
   "metadata": {},
   "source": [
    "## Buchstaben"
   ]
  },
  {
   "cell_type": "code",
   "execution_count": 55,
   "id": "ed673606",
   "metadata": {},
   "outputs": [
    {
     "ename": "NameError",
     "evalue": "name 'Verrauscht' is not defined",
     "output_type": "error",
     "traceback": [
      "\u001b[1;31m---------------------------------------------------------------------------\u001b[0m",
      "\u001b[1;31mNameError\u001b[0m                                 Traceback (most recent call last)",
      "\u001b[1;32m<ipython-input-55-9c7af4abf96e>\u001b[0m in \u001b[0;36m<module>\u001b[1;34m\u001b[0m\n\u001b[1;32m----> 1\u001b[1;33m \u001b[0mPlotFilter\u001b[0m\u001b[1;33m(\u001b[0m\u001b[0mVerrauscht\u001b[0m\u001b[1;33m[\u001b[0m\u001b[1;33m:\u001b[0m\u001b[1;33m,\u001b[0m \u001b[1;33m:\u001b[0m\u001b[1;36m200\u001b[0m\u001b[1;33m]\u001b[0m\u001b[1;33m)\u001b[0m\u001b[1;33m\u001b[0m\u001b[1;33m\u001b[0m\u001b[0m\n\u001b[0m",
      "\u001b[1;31mNameError\u001b[0m: name 'Verrauscht' is not defined"
     ]
    }
   ],
   "source": [
    "PlotFilter(Verrauscht[:, :200])"
   ]
  },
  {
   "cell_type": "markdown",
   "id": "1f3a1856",
   "metadata": {},
   "source": [
    "## Astronaut"
   ]
  },
  {
   "cell_type": "code",
   "execution_count": 56,
   "id": "b3792df0",
   "metadata": {},
   "outputs": [
    {
     "data": {
      "application/vnd.jupyter.widget-view+json": {
       "model_id": "bd38b1476f1049af8f4d651638b3429e",
       "version_major": 2,
       "version_minor": 0
      },
      "text/plain": [
       "interactive(children=(IntSlider(value=25, description='k0', max=50, min=1), Text(value='ignorieren Sie diese A…"
      ]
     },
     "metadata": {},
     "output_type": "display_data"
    }
   ],
   "source": [
    "PlotFilter(Astronaut)"
   ]
  },
  {
   "cell_type": "markdown",
   "id": "3537e51a",
   "metadata": {},
   "source": [
    "# Schärfung von RGB Bildern"
   ]
  },
  {
   "cell_type": "code",
   "execution_count": 57,
   "id": "05044ed6",
   "metadata": {},
   "outputs": [
    {
     "data": {
      "application/vnd.jupyter.widget-view+json": {
       "model_id": "e0a13aeed8c940dda6ea7057924c85ee",
       "version_major": 2,
       "version_minor": 0
      },
      "text/plain": [
       "interactive(children=(IntSlider(value=25, description='k0', max=50, min=1), Text(value='ignorieren Sie diese A…"
      ]
     },
     "metadata": {},
     "output_type": "display_data"
    }
   ],
   "source": [
    "PlotImgPlusFilter(Astronaut)"
   ]
  },
  {
   "cell_type": "code",
   "execution_count": null,
   "id": "ecd17bff",
   "metadata": {},
   "outputs": [],
   "source": [
    "PlotImgPlusFilter(Cat[:300, :450])"
   ]
  },
  {
   "cell_type": "markdown",
   "id": "83103f8a",
   "metadata": {},
   "source": [
    "## Kameraman"
   ]
  },
  {
   "cell_type": "code",
   "execution_count": 26,
   "id": "446fac1e",
   "metadata": {
    "scrolled": true
   },
   "outputs": [
    {
     "data": {
      "application/vnd.jupyter.widget-view+json": {
       "model_id": "53a52bfc93fe42359797e702803a9db6",
       "version_major": 2,
       "version_minor": 0
      },
      "text/plain": [
       "interactive(children=(IntSlider(value=25, description='k0', max=50, min=1), Text(value='ignorieren Sie diese A…"
      ]
     },
     "metadata": {},
     "output_type": "display_data"
    }
   ],
   "source": [
    "PlotFilter(Kamera)"
   ]
  },
  {
   "cell_type": "markdown",
   "id": "262f80fe",
   "metadata": {},
   "source": [
    "Das Spektrum für den Idealen Tiefpassfilter lässt sich dadurch erklären, das wir bei diesem eine Abstandsfunktion betrachten, die also um den abstand eines Punktes die Signale durchlässt und alle andere abschneidet, daher macht bei einer geschifteteten Fouriertransformation der Kreis um den Mittelpunkt mit Radius k0 durchaus sinn.  \n",
    "\n",
    "Auch bei dem Gaußschen Tiefpassfilter lässt sich das Spektrum nachher erklären, hier spielt die Abstandsbetrachung bei einer geschifteteten Fouriertransformation auch eine wichtigtige Rolle. Wir sehen hier um den Mittelpunkt eine art Kreisförmige Gaußverteilung. Unsere Wellenlänge k0 ist hierbei unsere Standardabweichung. Der Gaußsche Tiefpassfilter lässt aber in einem höherem Radius als der ideale Tiefpassfilter Frequenzen um den Jeweiligen Punkt zu. Deswegen wirkt in der Bildlichen darstellung der ideale Tiefpassfilter mehr verpixelt."
   ]
  },
  {
   "cell_type": "markdown",
   "id": "c25f8b58",
   "metadata": {},
   "source": [
    "## Katze"
   ]
  },
  {
   "cell_type": "code",
   "execution_count": null,
   "id": "e72b1dc4",
   "metadata": {},
   "outputs": [],
   "source": [
    "PlotFilter(katzeklein)"
   ]
  },
  {
   "cell_type": "code",
   "execution_count": 25,
   "id": "3011acd6",
   "metadata": {
    "scrolled": false
   },
   "outputs": [
    {
     "ename": "NameError",
     "evalue": "name 'katzeklein' is not defined",
     "output_type": "error",
     "traceback": [
      "\u001b[1;31m---------------------------------------------------------------------------\u001b[0m",
      "\u001b[1;31mNameError\u001b[0m                                 Traceback (most recent call last)",
      "\u001b[1;32m<ipython-input-25-57a96c31be3b>\u001b[0m in \u001b[0;36m<module>\u001b[1;34m\u001b[0m\n\u001b[1;32m----> 1\u001b[1;33m \u001b[0mPlotImgPlusFilter\u001b[0m\u001b[1;33m(\u001b[0m\u001b[0mkatzeklein\u001b[0m\u001b[1;33m)\u001b[0m\u001b[1;33m\u001b[0m\u001b[1;33m\u001b[0m\u001b[0m\n\u001b[0m",
      "\u001b[1;31mNameError\u001b[0m: name 'katzeklein' is not defined"
     ]
    }
   ],
   "source": [
    "PlotImgPlusFilter(katzeklein)"
   ]
  },
  {
   "cell_type": "code",
   "execution_count": null,
   "id": "50e24ff2",
   "metadata": {},
   "outputs": [],
   "source": []
  }
 ],
 "metadata": {
  "kernelspec": {
   "display_name": "Python 3",
   "language": "python",
   "name": "python3"
  },
  "language_info": {
   "codemirror_mode": {
    "name": "ipython",
    "version": 3
   },
   "file_extension": ".py",
   "mimetype": "text/x-python",
   "name": "python",
   "nbconvert_exporter": "python",
   "pygments_lexer": "ipython3",
   "version": "3.8.5"
  }
 },
 "nbformat": 4,
 "nbformat_minor": 5
}
